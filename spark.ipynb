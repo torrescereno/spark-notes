{
 "cells": [
  {
   "cell_type": "code",
   "execution_count": 1,
   "metadata": {},
   "outputs": [],
   "source": [
    "from pyspark.sql import SparkSession, DataFrame\n",
    "from pyspark.sql import functions as F\n",
    "\n",
    "from pyspark.sql.types import (\n",
    "    IntegerType,\n",
    "    StringType,\n",
    "    TimestampType,\n",
    "    StructField,\n",
    "    StructType,\n",
    ")"
   ]
  },
  {
   "cell_type": "markdown",
   "metadata": {},
   "source": [
    "### Spark SQL"
   ]
  },
  {
   "cell_type": "markdown",
   "metadata": {},
   "source": [
    "#### Session"
   ]
  },
  {
   "cell_type": "code",
   "execution_count": 2,
   "metadata": {},
   "outputs": [
    {
     "name": "stderr",
     "output_type": "stream",
     "text": [
      "24/08/16 20:03:31 WARN Utils: Your hostname, torrescereno resolves to a loopback address: 127.0.1.1; using 192.168.1.165 instead (on interface enp4s0)\n",
      "24/08/16 20:03:31 WARN Utils: Set SPARK_LOCAL_IP if you need to bind to another address\n",
      "Setting default log level to \"WARN\".\n",
      "To adjust logging level use sc.setLogLevel(newLevel). For SparkR, use setLogLevel(newLevel).\n",
      "24/08/16 20:03:31 WARN NativeCodeLoader: Unable to load native-hadoop library for your platform... using builtin-java classes where applicable\n"
     ]
    }
   ],
   "source": [
    "sp: SparkSession = SparkSession.builder.appName(\"app\").getOrCreate()\n",
    "\n",
    "sp.sparkContext.setLogLevel(\"ERROR\")"
   ]
  },
  {
   "cell_type": "markdown",
   "metadata": {},
   "source": [
    "#### Lectura - Schema"
   ]
  },
  {
   "cell_type": "code",
   "execution_count": 28,
   "metadata": {},
   "outputs": [
    {
     "data": {
      "text/plain": [
       "20613"
      ]
     },
     "execution_count": 28,
     "metadata": {},
     "output_type": "execute_result"
    }
   ],
   "source": [
    "# Dataset\n",
    "# https://www.kaggle.com/datasets/muhammadehsan000/paris-2024-summer-olympic-games-dataset\n",
    "\n",
    "# Estructura / Schema\n",
    "schema: StringType = StructType(\n",
    "    [\n",
    "        StructField(\"date\", TimestampType(), True),\n",
    "        StructField(\"stage_code\", StringType(), True),\n",
    "        StructField(\"event_code\", StringType(), True),\n",
    "        StructField(\"event_name\", StringType(), True),\n",
    "        StructField(\"event_stage\", StringType(), True),\n",
    "        StructField(\"stage\", StringType(), True),\n",
    "        StructField(\"stage_status\", StringType(), True),\n",
    "        StructField(\"gender\", StringType(), True),\n",
    "        StructField(\"discipline_name\", StringType(), True),\n",
    "        StructField(\"discipline_code\", StringType(), True),\n",
    "        StructField(\"venue\", StringType(), True),\n",
    "        StructField(\"participant_code\", StringType(), True),\n",
    "        StructField(\"participant_name\", StringType(), True),\n",
    "        StructField(\"participant_type\", StringType(), True),\n",
    "        StructField(\"participant_country_code\", StringType(), True),\n",
    "        StructField(\"participant_country\", StringType(), True),\n",
    "        StructField(\"rank\", IntegerType(), True),\n",
    "        StructField(\"result\", StringType(), True),\n",
    "        StructField(\"result_type\", StringType(), True),\n",
    "        StructField(\"result_IRM\", StringType(), True),\n",
    "        StructField(\"result_diff\", StringType(), True),\n",
    "        StructField(\"qualification_mark\", StringType(), True),\n",
    "        StructField(\"start_order\", IntegerType(), True),\n",
    "        StructField(\"bib\", StringType(), True)\n",
    "    ]\n",
    ")\n",
    "\n",
    "# Lectura de csv\n",
    "df: DataFrame = sp.read \\\n",
    "                        .format(\"csv\") \\\n",
    "                        .option(\"header\", True) \\\n",
    "                        .schema(schema) \\\n",
    "                        .load(\"data/results\")\n",
    "                        \n",
    "# Inferir schema\n",
    "# df = sp.read.option(\"header\", True).option(\"inferSchema\", True).csv(\"data/results\")\n",
    "\n",
    "df.count()"
   ]
  },
  {
   "cell_type": "code",
   "execution_count": 25,
   "metadata": {},
   "outputs": [
    {
     "data": {
      "text/plain": [
       "2035"
      ]
     },
     "execution_count": 25,
     "metadata": {},
     "output_type": "execute_result"
    }
   ],
   "source": [
    "# Tomar una muestra\n",
    "df = (\n",
    "    sp.read.format(\"csv\")\n",
    "    .option(\"header\", True)\n",
    "    .load(\"data/results\")\n",
    "    .sample(0.1)\n",
    ")\n",
    "\n",
    "df.count()"
   ]
  },
  {
   "cell_type": "code",
   "execution_count": 26,
   "metadata": {},
   "outputs": [
    {
     "name": "stdout",
     "output_type": "stream",
     "text": [
      "root\n",
      " |-- date: string (nullable = true)\n",
      " |-- stage_code: string (nullable = true)\n",
      " |-- event_code: string (nullable = true)\n",
      " |-- event_name: string (nullable = true)\n",
      " |-- event_stage: string (nullable = true)\n",
      " |-- stage: string (nullable = true)\n",
      " |-- stage_status: string (nullable = true)\n",
      " |-- gender: string (nullable = true)\n",
      " |-- discipline_name: string (nullable = true)\n",
      " |-- discipline_code: string (nullable = true)\n",
      " |-- venue: string (nullable = true)\n",
      " |-- participant_code: string (nullable = true)\n",
      " |-- participant_name: string (nullable = true)\n",
      " |-- participant_type: string (nullable = true)\n",
      " |-- participant_country_code: string (nullable = true)\n",
      " |-- participant_country: string (nullable = true)\n",
      " |-- rank: string (nullable = true)\n",
      " |-- result: string (nullable = true)\n",
      " |-- result_type: string (nullable = true)\n",
      " |-- result_IRM: string (nullable = true)\n",
      " |-- result_diff: string (nullable = true)\n",
      " |-- qualification_mark: string (nullable = true)\n",
      " |-- start_order: string (nullable = true)\n",
      " |-- bib: string (nullable = true)\n",
      "\n"
     ]
    }
   ],
   "source": [
    "df.printSchema()"
   ]
  },
  {
   "cell_type": "markdown",
   "metadata": {},
   "source": [
    "#### SQL"
   ]
  },
  {
   "cell_type": "code",
   "execution_count": 6,
   "metadata": {},
   "outputs": [
    {
     "name": "stdout",
     "output_type": "stream",
     "text": [
      "+--------------------+--------------------+----------+------------------+--------------------+--------------------+------------+------+---------------+---------------+----------------+----------------+--------------------+----------------+------------------------+-------------------+----+------+-----------+----------+-----------+------------------+-----------+----+\n",
      "|                date|          stage_code|event_code|        event_name|         event_stage|               stage|stage_status|gender|discipline_name|discipline_code|           venue|participant_code|    participant_name|participant_type|participant_country_code|participant_country|rank|result|result_type|result_IRM|result_diff|qualification_mark|start_order| bib|\n",
      "+--------------------+--------------------+----------+------------------+--------------------+--------------------+------------+------+---------------+---------------+----------------+----------------+--------------------+----------------+------------------------+-------------------+----+------+-----------+----------+-----------+------------------+-----------+----+\n",
      "|2024-08-05T12:24:...|ATHMDISCUS-------...|ATHMDISCUS|Men's Discus Throw|Men's Discus Thro...|Qualification - G...|    FINISHED|     M|      Athletics|            ATH| Stade de France|         1933275|      ROMERO Claudio|          Person|                     CHI|              Chile|NULL|  NULL|        IRM|        NM|       NULL|              NULL|          5| 480|\n",
      "|2024-08-03T13:44:...|SALMILCA7--------...| SALMILCA7|      Men's Dinghy|Men's Dinghy - Ra...|Opening Series - ...|    FINISHED|     M|        Sailing|            SAL|Marseille Marina|         1938449|SEGUEL LACAMARA C...|          Person|                     CHI|              Chile| 8.0|     8|     POINTS|      NULL|       NULL|              NULL|       NULL|NULL|\n",
      "|2024-08-07T16:34:...|SALMILCA7--------...| SALMILCA7|      Men's Dinghy|Men's Dinghy Meda...|          Medal Race|    FINISHED|     M|        Sailing|            SAL|Marseille Marina|         1938449|SEGUEL LACAMARA C...|          Person|                     CHI|              Chile| 6.0|    12|     POINTS|      NULL|       NULL|              NULL|       NULL|NULL|\n",
      "|2024-08-01T17:47:...|SALWILCA6--------...| SALWILCA6|    Women's Dinghy|Women's Dinghy - ...|Opening Series - ...|    FINISHED|     W|        Sailing|            SAL|Marseille Marina|         1938458|PONCELL MAURIN Ma...|          Person|                     CHI|              Chile|37.0|    37|     POINTS|      NULL|       NULL|              NULL|       NULL|NULL|\n",
      "|2024-08-05T16:14:...|SALWILCA6--------...| SALWILCA6|    Women's Dinghy|Women's Dinghy - ...|Opening Series - ...|    FINISHED|     W|        Sailing|            SAL|Marseille Marina|         1938458|PONCELL MAURIN Ma...|          Person|                     CHI|              Chile|28.0|    28|     POINTS|      NULL|       NULL|              NULL|       NULL|NULL|\n",
      "+--------------------+--------------------+----------+------------------+--------------------+--------------------+------------+------+---------------+---------------+----------------+----------------+--------------------+----------------+------------------------+-------------------+----+------+-----------+----------+-----------+------------------+-----------+----+\n",
      "only showing top 5 rows\n",
      "\n"
     ]
    }
   ],
   "source": [
    "# Registrar el DataFrame como una tabla temporal en SQL\n",
    "df.createOrReplaceTempView(\"jjoo\")\n",
    "\n",
    "# Ejecutar una consulta SQL para seleccionar a todos los empleados de un departamento específico\n",
    "sp.sql(\"SELECT * FROM jjoo WHERE participant_country = 'Chile'\").show(5)\n"
   ]
  },
  {
   "cell_type": "markdown",
   "metadata": {},
   "source": [
    "#### Dataframe"
   ]
  },
  {
   "cell_type": "code",
   "execution_count": 7,
   "metadata": {},
   "outputs": [
    {
     "name": "stdout",
     "output_type": "stream",
     "text": [
      "+--------------------+--------------------+----------+------------------+--------------------+--------------------+------------+------+---------------+---------------+----------------+----------------+--------------------+----------------+------------------------+-------------------+----+------+-----------+----------+-----------+------------------+-----------+----+\n",
      "|                date|          stage_code|event_code|        event_name|         event_stage|               stage|stage_status|gender|discipline_name|discipline_code|           venue|participant_code|    participant_name|participant_type|participant_country_code|participant_country|rank|result|result_type|result_IRM|result_diff|qualification_mark|start_order| bib|\n",
      "+--------------------+--------------------+----------+------------------+--------------------+--------------------+------------+------+---------------+---------------+----------------+----------------+--------------------+----------------+------------------------+-------------------+----+------+-----------+----------+-----------+------------------+-----------+----+\n",
      "|2024-08-05T12:24:...|ATHMDISCUS-------...|ATHMDISCUS|Men's Discus Throw|Men's Discus Thro...|Qualification - G...|    FINISHED|     M|      Athletics|            ATH| Stade de France|         1933275|      ROMERO Claudio|          Person|                     CHI|              Chile|NULL|  NULL|        IRM|        NM|       NULL|              NULL|          5| 480|\n",
      "|2024-08-03T13:44:...|SALMILCA7--------...| SALMILCA7|      Men's Dinghy|Men's Dinghy - Ra...|Opening Series - ...|    FINISHED|     M|        Sailing|            SAL|Marseille Marina|         1938449|SEGUEL LACAMARA C...|          Person|                     CHI|              Chile| 8.0|     8|     POINTS|      NULL|       NULL|              NULL|       NULL|NULL|\n",
      "|2024-08-07T16:34:...|SALMILCA7--------...| SALMILCA7|      Men's Dinghy|Men's Dinghy Meda...|          Medal Race|    FINISHED|     M|        Sailing|            SAL|Marseille Marina|         1938449|SEGUEL LACAMARA C...|          Person|                     CHI|              Chile| 6.0|    12|     POINTS|      NULL|       NULL|              NULL|       NULL|NULL|\n",
      "|2024-08-01T17:47:...|SALWILCA6--------...| SALWILCA6|    Women's Dinghy|Women's Dinghy - ...|Opening Series - ...|    FINISHED|     W|        Sailing|            SAL|Marseille Marina|         1938458|PONCELL MAURIN Ma...|          Person|                     CHI|              Chile|37.0|    37|     POINTS|      NULL|       NULL|              NULL|       NULL|NULL|\n",
      "|2024-08-05T16:14:...|SALWILCA6--------...| SALWILCA6|    Women's Dinghy|Women's Dinghy - ...|Opening Series - ...|    FINISHED|     W|        Sailing|            SAL|Marseille Marina|         1938458|PONCELL MAURIN Ma...|          Person|                     CHI|              Chile|28.0|    28|     POINTS|      NULL|       NULL|              NULL|       NULL|NULL|\n",
      "+--------------------+--------------------+----------+------------------+--------------------+--------------------+------------+------+---------------+---------------+----------------+----------------+--------------------+----------------+------------------------+-------------------+----+------+-----------+----------+-----------+------------------+-----------+----+\n",
      "only showing top 5 rows\n",
      "\n"
     ]
    }
   ],
   "source": [
    "df[df[\"participant_country\"] == \"Chile\"].show(5)"
   ]
  },
  {
   "cell_type": "markdown",
   "metadata": {},
   "source": [
    "#### Distinct"
   ]
  },
  {
   "cell_type": "code",
   "execution_count": 29,
   "metadata": {},
   "outputs": [
    {
     "data": {
      "text/plain": [
       "45"
      ]
     },
     "execution_count": 29,
     "metadata": {},
     "output_type": "execute_result"
    }
   ],
   "source": [
    "df[df[\"participant_country\"] == \"Chile\"].select(\"participant_name\").distinct().count()"
   ]
  },
  {
   "cell_type": "code",
   "execution_count": 30,
   "metadata": {},
   "outputs": [],
   "source": [
    "countries = df.select(\"participant_country\").distinct().rdd.map(lambda row: row[0]).collect()\n",
    "countries.append(\"United States of America\")\n",
    "\n",
    "df = df[~df[\"participant_name\"].isin(countries)]"
   ]
  },
  {
   "cell_type": "markdown",
   "metadata": {},
   "source": [
    "#### Filters"
   ]
  },
  {
   "cell_type": "code",
   "execution_count": 31,
   "metadata": {},
   "outputs": [
    {
     "data": {
      "text/plain": [
       "16"
      ]
     },
     "execution_count": 31,
     "metadata": {},
     "output_type": "execute_result"
    }
   ],
   "source": [
    "# Participantes mujeres (filter)\n",
    "df.filter(df[\"participant_country\"] == \"Chile\")\\\n",
    "    .select(\"participant_name\") \\\n",
    "    .distinct() \\\n",
    "    .filter(df[\"gender\"] == \"W\") \\\n",
    "    .count()"
   ]
  },
  {
   "cell_type": "code",
   "execution_count": 32,
   "metadata": {},
   "outputs": [
    {
     "data": {
      "text/plain": [
       "27"
      ]
     },
     "execution_count": 32,
     "metadata": {},
     "output_type": "execute_result"
    }
   ],
   "source": [
    "# Participantes hombres (vectores)\n",
    "# WHERE utiliza la api de funciones que es más común en operaciones complejas y es más expresiva cuando se trabaja con múltiples condiciones o columnas\n",
    "\n",
    "df[df[\"participant_country\"] == \"Chile\"] \\\n",
    "    .select(\"participant_name\") \\\n",
    "    .distinct().where(F.col(\"gender\") == \"M\").count()"
   ]
  },
  {
   "cell_type": "code",
   "execution_count": 33,
   "metadata": {},
   "outputs": [
    {
     "data": {
      "text/plain": [
       "1"
      ]
     },
     "execution_count": 33,
     "metadata": {},
     "output_type": "execute_result"
    }
   ],
   "source": [
    "df.where(\n",
    "    (F.col(\"participant_country\") == \"Chile\") &\n",
    "    ((F.col(\"gender\") == \"O\") | (F.col(\"gender\") == \"X\"))\n",
    ").count()"
   ]
  },
  {
   "cell_type": "markdown",
   "metadata": {},
   "source": [
    "#### Groups"
   ]
  },
  {
   "cell_type": "code",
   "execution_count": 34,
   "metadata": {},
   "outputs": [
    {
     "name": "stdout",
     "output_type": "stream",
     "text": [
      "+-----------------+------------------+\n",
      "|  discipline_name|unique_event_count|\n",
      "+-----------------+------------------+\n",
      "|           Tennis|                 5|\n",
      "|           Boxing|                13|\n",
      "|Marathon Swimming|                 2|\n",
      "|             Golf|                 2|\n",
      "|           Rowing|                 7|\n",
      "+-----------------+------------------+\n",
      "only showing top 5 rows\n",
      "\n"
     ]
    }
   ],
   "source": [
    "# ¿Cuántos eventos diferentes se llevaron a cabo en cada disciplina?\n",
    "\n",
    "df.groupBy(\"discipline_name\").agg(F.countDistinct(\"event_name\").alias(\"unique_event_count\")).show(5)"
   ]
  },
  {
   "cell_type": "code",
   "execution_count": 35,
   "metadata": {},
   "outputs": [
    {
     "name": "stdout",
     "output_type": "stream",
     "text": [
      "+------+-----------+\n",
      "|gender|event_count|\n",
      "+------+-----------+\n",
      "|     M|        141|\n",
      "|     O|          5|\n",
      "|     X|         12|\n",
      "|     W|        144|\n",
      "+------+-----------+\n",
      "\n"
     ]
    }
   ],
   "source": [
    "# ¿Cuál fue la distribución de los eventos según el género de los participantes?\n",
    "\n",
    "df.groupBy(\"gender\").agg(F.countDistinct(\"event_code\").alias(\"event_count\")).show()"
   ]
  },
  {
   "cell_type": "code",
   "execution_count": 36,
   "metadata": {},
   "outputs": [
    {
     "name": "stdout",
     "output_type": "stream",
     "text": [
      "+-------------------+-----+\n",
      "|participant_country|count|\n",
      "+-------------------+-----+\n",
      "|      United States|  354|\n",
      "|             France|  288|\n",
      "|              China|  262|\n",
      "|              Italy|  246|\n",
      "|          Australia|  246|\n",
      "+-------------------+-----+\n",
      "only showing top 5 rows\n",
      "\n"
     ]
    }
   ],
   "source": [
    "# ¿Cuáles son los países con mayor cantidad de participantes?\n",
    "\n",
    "df.groupBy(\"participant_country\").agg(F.countDistinct(\"participant_name\").alias(\"count\")).orderBy(F.desc(\"count\")).show(5)"
   ]
  },
  {
   "cell_type": "code",
   "execution_count": 37,
   "metadata": {},
   "outputs": [
    {
     "name": "stdout",
     "output_type": "stream",
     "text": [
      "+-----------------+---------------+-----+\n",
      "|       event_name|discipline_name|count|\n",
      "+-----------------+---------------+-----+\n",
      "|       Men's 100m|      Athletics|  102|\n",
      "|Women's Road Race|   Cycling Road|   92|\n",
      "|     Women's 100m|      Athletics|   91|\n",
      "| Women's Marathon|      Athletics|   91|\n",
      "|  Men's Road Race|   Cycling Road|   90|\n",
      "+-----------------+---------------+-----+\n",
      "only showing top 5 rows\n",
      "\n"
     ]
    }
   ],
   "source": [
    "# ¿Qué eventos tuvieron el mayor número de participantes?\n",
    "\n",
    "df.groupBy(\"event_name\", \"discipline_name\").agg(F.countDistinct(\"participant_name\").alias(\"count\")).orderBy(F.desc(\"count\")).show(5)"
   ]
  },
  {
   "cell_type": "markdown",
   "metadata": {},
   "source": [
    "#### Pivot"
   ]
  },
  {
   "cell_type": "code",
   "execution_count": 38,
   "metadata": {},
   "outputs": [
    {
     "name": "stdout",
     "output_type": "stream",
     "text": [
      "+-------------------+---+----+---+----+\n",
      "|participant_country|  M|   O|  W|   X|\n",
      "+-------------------+---+----+---+----+\n",
      "|                AIN| 37|NULL| 40|   1|\n",
      "|        Afghanistan|  3|NULL|  4|NULL|\n",
      "|            Albania| 13|NULL|  5|NULL|\n",
      "|            Algeria| 52|NULL| 33|   3|\n",
      "|     American Samoa|  1|NULL|  1|NULL|\n",
      "+-------------------+---+----+---+----+\n",
      "only showing top 5 rows\n",
      "\n"
     ]
    }
   ],
   "source": [
    "# Cuántos participantes de cada género (gender) han competido en cada país (participant_country).\n",
    "\n",
    "df.groupBy(\"participant_country\").pivot(\"gender\").agg(F.count(\"participant_code\")).orderBy(F.asc(\"participant_country\")).show(5)"
   ]
  },
  {
   "cell_type": "markdown",
   "metadata": {},
   "source": [
    "#### Columns"
   ]
  },
  {
   "cell_type": "code",
   "execution_count": 39,
   "metadata": {},
   "outputs": [
    {
     "name": "stdout",
     "output_type": "stream",
     "text": [
      "+-------------------+--------------------+------------+--------------------+--------------------+-----+------------+------+---------------+---------------+---------+-----------------+------------------+----------------+------------------------+-------------------+----+-------+-----------+----------+-----------+------------------+-----------+----+\n",
      "|               date|          stage_code|  event_code|          event_name|         event_stage|stage|stage_status|gender|discipline_name|discipline_code|    venue| participant_code|  participant_name|participant_type|participant_country_code|participant_country|rank| result|result_type|result_IRM|result_diff|qualification_mark|start_order| bib|\n",
      "+-------------------+--------------------+------------+--------------------+--------------------+-----+------------+------+---------------+---------------+---------+-----------------+------------------+----------------+------------------------+-------------------+----+-------+-----------+----------+-----------+------------------+-----------+----+\n",
      "|2024-08-07 09:09:36|ATHX42KWALKT-----...|ATHX42KWALKT|Marathon Race Wal...|Marathon Race Wal...|Final|    FINISHED|     X|      Athletics|            ATH|Trocadéro|ATHX42KWALKTESP02|MARTIN A / PEREZ M|            Team|                     ESP|              Spain|NULL|2:50:31|       TIME|      NULL|       NULL|              NULL|         15|NULL|\n",
      "+-------------------+--------------------+------------+--------------------+--------------------+-----+------------+------+---------------+---------------+---------+-----------------+------------------+----------------+------------------------+-------------------+----+-------+-----------+----------+-----------+------------------+-----------+----+\n",
      "only showing top 1 row\n",
      "\n"
     ]
    }
   ],
   "source": [
    "df.show(1)"
   ]
  },
  {
   "cell_type": "code",
   "execution_count": 40,
   "metadata": {},
   "outputs": [
    {
     "name": "stdout",
     "output_type": "stream",
     "text": [
      "+-------------------+--------------------+------------+--------------------+--------------------+-----+------------+------+---------------+---------------+---------+-----------------+------------------+----------------+------------------------+-------------------+----+-------+-----------+----------+-----------+------------------+-----------+----+------------------+------------------+\n",
      "|               date|          stage_code|  event_code|          event_name|         event_stage|stage|stage_status|gender|discipline_name|discipline_code|    venue| participant_code|  participant_name|participant_type|participant_country_code|participant_country|rank| result|result_type|result_IRM|result_diff|qualification_mark|start_order| bib|             upper|             lower|\n",
      "+-------------------+--------------------+------------+--------------------+--------------------+-----+------------+------+---------------+---------------+---------+-----------------+------------------+----------------+------------------------+-------------------+----+-------+-----------+----------+-----------+------------------+-----------+----+------------------+------------------+\n",
      "|2024-08-07 09:09:36|ATHX42KWALKT-----...|ATHX42KWALKT|Marathon Race Wal...|Marathon Race Wal...|Final|    FINISHED|     X|      Athletics|            ATH|Trocadéro|ATHX42KWALKTESP02|MARTIN A / PEREZ M|            Team|                     ESP|              Spain|NULL|2:50:31|       TIME|      NULL|       NULL|              NULL|         15|NULL|MARTIN A / PEREZ M|martin a / perez m|\n",
      "+-------------------+--------------------+------------+--------------------+--------------------+-----+------------+------+---------------+---------------+---------+-----------------+------------------+----------------+------------------------+-------------------+----+-------+-----------+----------+-----------+------------------+-----------+----+------------------+------------------+\n",
      "only showing top 1 row\n",
      "\n"
     ]
    }
   ],
   "source": [
    "# Agregar una columna\n",
    "\n",
    "df.withColumn(\"upper\", F.upper(df.participant_name)).withColumn(\n",
    "    \"lower\", F.lower(df.participant_name)\n",
    ").show(1)"
   ]
  },
  {
   "cell_type": "code",
   "execution_count": 41,
   "metadata": {},
   "outputs": [
    {
     "name": "stdout",
     "output_type": "stream",
     "text": [
      "+-------------------+--------------------+------------+--------------------+--------------------+-----+------------+------+---------------+---------------+---------+-----------------+------------------+----------------+------------------------+-------------------+----+-------+-----------+----------+-----------+------------------+-----------+----+\n",
      "|              fecha|          stage_code|  event_code|          event_name|         event_stage|stage|stage_status|gender|discipline_name|discipline_code|    venue| participant_code|  participant_name|participant_type|participant_country_code|participant_country|rank| result|result_type|result_IRM|result_diff|qualification_mark|start_order| bib|\n",
      "+-------------------+--------------------+------------+--------------------+--------------------+-----+------------+------+---------------+---------------+---------+-----------------+------------------+----------------+------------------------+-------------------+----+-------+-----------+----------+-----------+------------------+-----------+----+\n",
      "|2024-08-07 09:09:36|ATHX42KWALKT-----...|ATHX42KWALKT|Marathon Race Wal...|Marathon Race Wal...|Final|    FINISHED|     X|      Athletics|            ATH|Trocadéro|ATHX42KWALKTESP02|MARTIN A / PEREZ M|            Team|                     ESP|              Spain|NULL|2:50:31|       TIME|      NULL|       NULL|              NULL|         15|NULL|\n",
      "+-------------------+--------------------+------------+--------------------+--------------------+-----+------------+------+---------------+---------------+---------+-----------------+------------------+----------------+------------------------+-------------------+----+-------+-----------+----------+-----------+------------------+-----------+----+\n",
      "only showing top 1 row\n",
      "\n"
     ]
    }
   ],
   "source": [
    "# Renombrar una columna\n",
    "\n",
    "df.withColumnRenamed(\"date\", \"fecha\").show(1)"
   ]
  },
  {
   "cell_type": "markdown",
   "metadata": {},
   "source": [
    "#### Performance"
   ]
  },
  {
   "cell_type": "markdown",
   "metadata": {},
   "source": [
    "Cache\n",
    "\n",
    "Por defecto, un DataFrame no se almacena en ningún lugar y se vuelve a calcular cuando es necesario. \n",
    "El almacenamiento en caché de un DataFrame puede mejorar el rendimiento si se accede a él muchas veces. \n",
    "\n",
    "Hay dos maneras de hacer esto:\n",
    "\n",
    "1- El método de caché de DataFrame establece el modo de persistencia del DataFrame al valor predeterminado (Memoria y Disco).\n",
    "\n",
    "2- Para tener más control puedes usar persistir. persistir requiere un StorageLevel. persistir se usa más comúnmente para controlar el factor de replicación.\n",
    "\n"
   ]
  },
  {
   "cell_type": "code",
   "execution_count": 42,
   "metadata": {},
   "outputs": [
    {
     "name": "stdout",
     "output_type": "stream",
     "text": [
      "Nivel de almacenamiento predeterminado (NONE).\n",
      "Serialized 1x Replicated\n",
      "\n",
      "cache()\n",
      "Disk Memory Deserialized 1x Replicated\n",
      "\n",
      "DISK_ONLY\n",
      "Disk Memory Deserialized 1x Replicated\n",
      "\n",
      "MEMORY_ONLY\n",
      "Disk Memory Deserialized 1x Replicated\n",
      "\n",
      "MEMORY_AND_DISK\n",
      "Disk Memory Deserialized 1x Replicated\n"
     ]
    },
    {
     "data": {
      "text/plain": [
       "DataFrame[date: timestamp, stage_code: string, event_code: string, event_name: string, event_stage: string, stage: string, stage_status: string, gender: string, discipline_name: string, discipline_code: string, venue: string, participant_code: string, participant_name: string, participant_type: string, participant_country_code: string, participant_country: string, rank: int, result: string, result_type: string, result_IRM: string, result_diff: string, qualification_mark: string, start_order: int, bib: string]"
      ]
     },
     "execution_count": 42,
     "metadata": {},
     "output_type": "execute_result"
    }
   ],
   "source": [
    "from pyspark import StorageLevel\n",
    "\n",
    "# Copias\n",
    "df1 = df[df[\"participant_country\"] == \"Chile\"]\n",
    "df2 = df[df[\"participant_country\"] == \"Chile\"]\n",
    "df3 = df[df[\"participant_country\"] == \"Chile\"]\n",
    "df4 = df[df[\"participant_country\"] == \"Chile\"]\n",
    "\n",
    "print(\"Nivel de almacenamiento predeterminado (NONE).\")\n",
    "print(df.storageLevel)\n",
    "\n",
    "print(\"\\ncache()\")\n",
    "df1.cache()\n",
    "print(df1.storageLevel)\n",
    "\n",
    "print(\"\\nDISK_ONLY\")\n",
    "df2.persist(storageLevel=StorageLevel.DISK_ONLY)\n",
    "print(df2.storageLevel)\n",
    "\n",
    "print(\"\\nMEMORY_ONLY\")\n",
    "df3.persist(storageLevel=StorageLevel.MEMORY_ONLY)\n",
    "print(df3.storageLevel)\n",
    "\n",
    "print(\"\\nMEMORY_AND_DISK\")\n",
    "df4.persist(storageLevel=StorageLevel.MEMORY_AND_DISK)\n",
    "print(df4.storageLevel)\n",
    "\n",
    "df.unpersist()\n",
    "df1.unpersist()\n",
    "df2.unpersist()\n",
    "df3.unpersist()\n",
    "df4.unpersist()"
   ]
  },
  {
   "cell_type": "markdown",
   "metadata": {},
   "source": [
    "Plan de ejecución\n",
    "\n",
    "El plan lógico optimizado muestra la secuencia de transformaciones que PySpark aplica al DataFrame antes de convertirlo en un plan físico (es decir, antes de ejecutar realmente las operaciones).\n",
    "\n",
    "El plan físico muestra cómo PySpark ejecutará realmente las operaciones en el clúster."
   ]
  },
  {
   "cell_type": "code",
   "execution_count": 43,
   "metadata": {},
   "outputs": [
    {
     "name": "stdout",
     "output_type": "stream",
     "text": [
      "== Optimized Logical Plan ==\n",
      "Aggregate [participant_code#1804], [participant_code#1804, count(1) AS count#3038L], Statistics(sizeInBytes=401.3 KiB)\n",
      "+- Project [participant_code#1804], Statistics(sizeInBytes=312.2 KiB)\n",
      "   +- Filter NOT participant_name#1805 INSET AIN, Afghanistan, Albania, Algeria, American Samoa, Andorra, Angola, Antigua and Barbuda, Argentina, Armenia, Aruba, Australia, Austria, Azerbaijan, Bahamas, Bahrain, Bangladesh, Barbados, Belgium, Belize, Benin, Bermuda, Bhutan, Bolivia, Bosnia & Herzegovina, Botswana, Brazil, Brunei Darussalam, Bulgaria, Burkina Faso, Burundi, Cabo Verde, Cambodia, Cameroon, Canada, Cayman Islands, Centr Afric Rep, Chad, Chile, China, Chinese Taipei, Colombia, Comoros, Congo, Cook Islands, Costa Rica, Croatia, Cuba, Cyprus, Czechia, Côte d'Ivoire, DPR Korea, DR Congo, Denmark, Djibouti, Dominica, Dominican Republic, EOR, Ecuador, Egypt, El Salvador, Equatorial Guinea, Eritrea, Estonia, Eswatini, Ethiopia, Fiji, Finland, France, Gabon, Gambia, Georgia, Germany, Ghana, Great Britain, Greece, Grenada, Guam, Guatemala, Guinea, Guinea-Bissau, Guyana, Haiti, Honduras, Hong Kong, China, Hungary, IR Iran, Iceland, India, Indonesia, Iraq, Ireland, Israel, Italy, Jamaica, Japan, Jordan, Kazakhstan, Kenya, Kiribati, Korea, Kosovo, Kuwait, Kyrgyzstan, Lao PDR, Latvia, Lebanon, Lesotho, Liberia, Libya, Liechtenstein, Lithuania, Luxembourg, Madagascar, Malawi, Malaysia, Maldives, Mali, Malta, Marshall Islands, Mauritania, Mauritius, Mexico, Micronesia, Monaco, Mongolia, Montenegro, Morocco, Mozambique, Myanmar, Namibia, Nauru, Nepal, Netherlands, New Zealand, Nicaragua, Niger, Nigeria, North Macedonia, Norway, Oman, Pakistan, Palau, Palestine, Panama, Papua New Guinea, Paraguay, Peru, Philippines, Poland, Portugal, Puerto Rico, Qatar, Republic of Moldova, Romania, Rwanda, Saint Lucia, Samoa, San Marino, Sao Tome & Principe, Saudi Arabia, Senegal, Serbia, Seychelles, Sierra Leone, Singapore, Slovakia, Slovenia, Solomon Islands, Somalia, South Africa, South Sudan, Spain, Sri Lanka, St Kitts and Nevis, StVincent&Grenadines, Sudan, Suriname, Sweden, Switzerland, Syria, Tajikistan, Tanzania, Thailand, Timor-Leste, Togo, Tonga, Trinidad and Tobago, Tunisia, Turkmenistan, Tuvalu, Türkiye, UA Emirates, Uganda, Ukraine, United States, United States of America, Uruguay, Uzbekistan, Vanuatu, Venezuela, Vietnam, Virgin Islands, B, Virgin Islands, US, Yemen, Zambia, Zimbabwe, Statistics(sizeInBytes=4.8 MiB)\n",
      "      +- Relation [date#1793,stage_code#1794,event_code#1795,event_name#1796,event_stage#1797,stage#1798,stage_status#1799,gender#1800,discipline_name#1801,discipline_code#1802,venue#1803,participant_code#1804,participant_name#1805,participant_type#1806,participant_country_code#1807,participant_country#1808,rank#1809,result#1810,result_type#1811,result_IRM#1812,result_diff#1813,qualification_mark#1814,start_order#1815,bib#1816] csv, Statistics(sizeInBytes=4.8 MiB)\n",
      "\n",
      "== Physical Plan ==\n",
      "AdaptiveSparkPlan isFinalPlan=false\n",
      "+- HashAggregate(keys=[participant_code#1804], functions=[count(1)], output=[participant_code#1804, count#3038L])\n",
      "   +- Exchange hashpartitioning(participant_code#1804, 200), ENSURE_REQUIREMENTS, [plan_id=3038]\n",
      "      +- HashAggregate(keys=[participant_code#1804], functions=[partial_count(1)], output=[participant_code#1804, count#3042L])\n",
      "         +- Project [participant_code#1804]\n",
      "            +- Filter NOT participant_name#1805 INSET AIN, Afghanistan, Albania, Algeria, American Samoa, Andorra, Angola, Antigua and Barbuda, Argentina, Armenia, Aruba, Australia, Austria, Azerbaijan, Bahamas, Bahrain, Bangladesh, Barbados, Belgium, Belize, Benin, Bermuda, Bhutan, Bolivia, Bosnia & Herzegovina, Botswana, Brazil, Brunei Darussalam, Bulgaria, Burkina Faso, Burundi, Cabo Verde, Cambodia, Cameroon, Canada, Cayman Islands, Centr Afric Rep, Chad, Chile, China, Chinese Taipei, Colombia, Comoros, Congo, Cook Islands, Costa Rica, Croatia, Cuba, Cyprus, Czechia, Côte d'Ivoire, DPR Korea, DR Congo, Denmark, Djibouti, Dominica, Dominican Republic, EOR, Ecuador, Egypt, El Salvador, Equatorial Guinea, Eritrea, Estonia, Eswatini, Ethiopia, Fiji, Finland, France, Gabon, Gambia, Georgia, Germany, Ghana, Great Britain, Greece, Grenada, Guam, Guatemala, Guinea, Guinea-Bissau, Guyana, Haiti, Honduras, Hong Kong, China, Hungary, IR Iran, Iceland, India, Indonesia, Iraq, Ireland, Israel, Italy, Jamaica, Japan, Jordan, Kazakhstan, Kenya, Kiribati, Korea, Kosovo, Kuwait, Kyrgyzstan, Lao PDR, Latvia, Lebanon, Lesotho, Liberia, Libya, Liechtenstein, Lithuania, Luxembourg, Madagascar, Malawi, Malaysia, Maldives, Mali, Malta, Marshall Islands, Mauritania, Mauritius, Mexico, Micronesia, Monaco, Mongolia, Montenegro, Morocco, Mozambique, Myanmar, Namibia, Nauru, Nepal, Netherlands, New Zealand, Nicaragua, Niger, Nigeria, North Macedonia, Norway, Oman, Pakistan, Palau, Palestine, Panama, Papua New Guinea, Paraguay, Peru, Philippines, Poland, Portugal, Puerto Rico, Qatar, Republic of Moldova, Romania, Rwanda, Saint Lucia, Samoa, San Marino, Sao Tome & Principe, Saudi Arabia, Senegal, Serbia, Seychelles, Sierra Leone, Singapore, Slovakia, Slovenia, Solomon Islands, Somalia, South Africa, South Sudan, Spain, Sri Lanka, St Kitts and Nevis, StVincent&Grenadines, Sudan, Suriname, Sweden, Switzerland, Syria, Tajikistan, Tanzania, Thailand, Timor-Leste, Togo, Tonga, Trinidad and Tobago, Tunisia, Turkmenistan, Tuvalu, Türkiye, UA Emirates, Uganda, Ukraine, United States, United States of America, Uruguay, Uzbekistan, Vanuatu, Venezuela, Vietnam, Virgin Islands, B, Virgin Islands, US, Yemen, Zambia, Zimbabwe\n",
      "               +- FileScan csv [participant_code#1804,participant_name#1805] Batched: false, DataFilters: [NOT participant_name#1805 INSET AIN, Afghanistan, Albania, Algeria, American Samoa, Andorra, Ang..., Format: CSV, Location: InMemoryFileIndex(1 paths)[file:/home/torrescereno/code/spark-notes/data/results], PartitionFilters: [], PushedFilters: [Not(In(participant_name, [AIN,Afghanistan,Albania,Algeria,American Samoa,Andorra,Angola,Antigua ..., ReadSchema: struct<participant_code:string,participant_name:string>\n",
      "\n",
      "\n",
      "None\n"
     ]
    }
   ],
   "source": [
    "df = df.groupBy(\"participant_code\").count()\n",
    "\n",
    "execution_plan = str(df.explain(mode=\"cost\"))\n",
    "print(execution_plan)"
   ]
  },
  {
   "cell_type": "markdown",
   "metadata": {},
   "source": [
    "Repartition\n",
    "\n",
    "El método .repartition() se utiliza para redistribuir los datos de un DataFrame en un número específico de particiones. Las particiones son subconjuntos de datos que se distribuyen a través de los nodos de un clúster para permitir un procesamiento paralelo eficiente.\n",
    "\n",
    "El método foreachPartition  permite aplicar una función personalizada a cada partición de datos en un DataFrame o RDD. Esto es útil cuando necesitas realizar operaciones específicas en cada partición, como filtrar, procesar o contar registros."
   ]
  },
  {
   "cell_type": "code",
   "execution_count": 44,
   "metadata": {},
   "outputs": [
    {
     "name": "stderr",
     "output_type": "stream",
     "text": [
      "Partition 1952010 has 354 records\n",
      "Partition 1918990 has 335 records\n",
      "Partition 1897299 has 359 records\n",
      "Partition 1920843 has 340 records\n",
      "Partition 1924455 has 352 records\n",
      "Partition 1570596 has 356 records\n",
      "Partition 1956237 has 368 records\n",
      "Partition 1928799 has 351 records\n",
      "Partition 1543943 has 351 records\n",
      "Partition 1939851 has 392 records\n",
      "Partition 1573418 has 334 records\n",
      "Partition 1563781 has 369 records\n",
      "Partition 1969332 has 345 records\n",
      "Partition 1902794 has 331 records\n",
      "Partition 1573107 has 382 records\n",
      "Partition 1958688 has 301 records\n",
      "Partition 1573013 has 340 records\n",
      "Partition 1981764 has 354 records\n",
      "Partition 1904166 has 313 records\n",
      "Partition 1552167 has 339 records\n"
     ]
    }
   ],
   "source": [
    "def number_in_partition(rows):\n",
    "    try:\n",
    "        first_row = next(rows)\n",
    "        partition_size = sum(1 for x in rows) + 1\n",
    "        partition_value = first_row.participant_code\n",
    "        print(f\"Partition {partition_value} has {partition_size} records\")\n",
    "    except StopIteration:\n",
    "        print(\"Empty partition\")\n",
    "\n",
    "df.repartition(20, \"participant_code\").foreachPartition(number_in_partition)"
   ]
  },
  {
   "cell_type": "markdown",
   "metadata": {},
   "source": [
    "### Referencias\n",
    "\n",
    "[cartershanklin/pyspark-cheatsheet](https://github.com/cartershanklin/pyspark-cheatsheet)\n",
    "\n",
    "[kevinschaich/pyspark-cheatsheet](https://github.com/kevinschaich/pyspark-cheatsheet)\n",
    "\n",
    "[PySpark](https://spark.apache.org/docs/latest/api/python/reference/index.html)"
   ]
  }
 ],
 "metadata": {
  "kernelspec": {
   "display_name": "venv",
   "language": "python",
   "name": "python3"
  },
  "language_info": {
   "codemirror_mode": {
    "name": "ipython",
    "version": 3
   },
   "file_extension": ".py",
   "mimetype": "text/x-python",
   "name": "python",
   "nbconvert_exporter": "python",
   "pygments_lexer": "ipython3",
   "version": "3.11.9"
  }
 },
 "nbformat": 4,
 "nbformat_minor": 2
}
